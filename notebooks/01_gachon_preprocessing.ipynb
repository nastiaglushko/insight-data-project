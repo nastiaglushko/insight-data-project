{
 "cells": [
  {
   "cell_type": "markdown",
   "metadata": {},
   "source": [
    "# Gachon: Preprocessing + EDA of second language learners' corpus data\n",
    "\n",
    "Basic NLP preprocessing steps + feature engineering. Corpus: Gachon - http://koreanlearnercorpusblog.blogspot.com/p/corpus.html"
   ]
  },
  {
   "cell_type": "code",
   "execution_count": 3,
   "metadata": {},
   "outputs": [],
   "source": [
    "import pandas as pd\n",
    "import numpy as np\n",
    "import os\n",
    "from matplotlib import pyplot as plt\n",
    "from spellchecker import SpellChecker\n",
    "import sys\n",
    "import seaborn as sns\n",
    "sys.path.append(\"../movielingo/\")\n",
    "%load_ext autoreload\n",
    "%autoreload 2"
   ]
  },
  {
   "cell_type": "code",
   "execution_count": 4,
   "metadata": {},
   "outputs": [],
   "source": [
    "from movielingo.config import gachon_dir, processed_data_dir\n",
    "raw_directory = gachon_dir\n",
    "raw_filename = \"Gachon Learner Corpus - Final Version.xlsx\"\n",
    "raw_filepath = raw_directory / raw_filename\n",
    "processed_directory = processed_data_dir\n",
    "processed_filename = '01_gachon_processed.csv' # file to be saved after data cleaning\n",
    "processed_filepath = processed_directory / processed_filename"
   ]
  },
  {
   "cell_type": "code",
   "execution_count": 7,
   "metadata": {},
   "outputs": [],
   "source": [
    "gachon = pd.read_excel(raw_filepath)"
   ]
  },
  {
   "cell_type": "code",
   "execution_count": 9,
   "metadata": {},
   "outputs": [],
   "source": [
    "check_if_numeric = lambda x: str(x).isdigit()"
   ]
  },
  {
   "cell_type": "code",
   "execution_count": 10,
   "metadata": {},
   "outputs": [
    {
     "name": "stdout",
     "output_type": "stream",
     "text": [
      "['x' 'X' '×' '270~300']\n"
     ]
    }
   ],
   "source": [
    "gachon[\"toeic_good\"] = gachon['TOEIC Score 토익 점수'].apply(check_if_numeric)\n",
    "print(gachon[gachon.toeic_good == 0]['TOEIC Score 토익 점수'].unique())"
   ]
  },
  {
   "cell_type": "code",
   "execution_count": 11,
   "metadata": {},
   "outputs": [],
   "source": [
    "gachon.at[(gachon['TOEIC Score 토익 점수'] == '270~300'), 'TOEIC Score 토익 점수'] = np.median((270,300))"
   ]
  },
  {
   "cell_type": "code",
   "execution_count": 12,
   "metadata": {},
   "outputs": [],
   "source": [
    "gachon[\"toeic_good\"] = gachon['TOEIC Score 토익 점수'].apply(check_if_numeric)"
   ]
  },
  {
   "cell_type": "code",
   "execution_count": 13,
   "metadata": {},
   "outputs": [
    {
     "name": "stdout",
     "output_type": "stream",
     "text": [
      "['x' 'X' '×' 285.0]\n"
     ]
    }
   ],
   "source": [
    "print(gachon[gachon.toeic_good == 0]['TOEIC Score 토익 점수'].unique())"
   ]
  },
  {
   "cell_type": "code",
   "execution_count": 14,
   "metadata": {},
   "outputs": [],
   "source": [
    "gachon = gachon[gachon.toeic_good == 1].copy()"
   ]
  },
  {
   "cell_type": "code",
   "execution_count": 15,
   "metadata": {},
   "outputs": [],
   "source": [
    "gachon.rename(columns={'TOEIC Score 토익 점수': \"toeic\", \"Student number:\": \"student\",\n",
    "                               \"Please answer the following question. Write between 100 and 150 words. 다음 질문에 100~150단어 답해주십시오.\":\n",
    "                               \"text\"}, inplace = True)"
   ]
  },
  {
   "cell_type": "code",
   "execution_count": 20,
   "metadata": {},
   "outputs": [],
   "source": [
    "gachon_relevant = gachon[['student','text','toeic']]\n",
    "gachon_relevant.loc[:,'student'] = gachon_relevant.student.astype(str).copy() + '_' + gachon_relevant.toeic.astype(str).copy()"
   ]
  },
  {
   "cell_type": "code",
   "execution_count": 21,
   "metadata": {},
   "outputs": [
    {
     "data": {
      "image/png": "[encoded data removed]",
      "text/plain": [
       "<Figure size 432x288 with 1 Axes>"
      ]
     },
     "metadata": {
      "needs_background": "light"
     },
     "output_type": "display_data"
    }
   ],
   "source": [
    "gachon_relevant.toeic.hist(color = 'pink')\n",
    "plt.xlabel('TOEIC scores')\n",
    "plt.ylabel('Number of observations');"
   ]
  },
  {
   "cell_type": "code",
   "execution_count": 22,
   "metadata": {},
   "outputs": [
    {
     "name": "stdout",
     "output_type": "stream",
     "text": [
      "Number of students: 1528\n"
     ]
    }
   ],
   "source": [
    "print('Number of students:', len(gachon_relevant.student.unique()))"
   ]
  },
  {
   "cell_type": "markdown",
   "metadata": {},
   "source": [
    "#### TOEIC to CEFR conversion:\n",
    "- 120-254 - A1\n",
    "- 255-549 - A2\n",
    "- 550-784 - B1\n",
    "- 785-944 - B2\n",
    "- 945-... - C1\n",
    "\n",
    "https://www.yumpu.com/en/document/read/11409349/correlation-table-toeicr-listening-and-reading-scores"
   ]
  },
  {
   "cell_type": "code",
   "execution_count": 23,
   "metadata": {},
   "outputs": [],
   "source": [
    "def toeic2cefr(row):\n",
    "    if row.toeic < 120:\n",
    "        return None\n",
    "    elif row.toeic < 255:\n",
    "        return 'A1'\n",
    "    elif row.toeic < 550:\n",
    "        return 'A2'\n",
    "    elif row.toeic < 785:\n",
    "        return 'B1'\n",
    "    elif row.toeic < 945:\n",
    "        return 'B2'\n",
    "    elif row.toeic > 944:\n",
    "        return 'C1'\n",
    "    else:\n",
    "        return None"
   ]
  },
  {
   "cell_type": "code",
   "execution_count": 26,
   "metadata": {},
   "outputs": [],
   "source": [
    "cefr_scores = gachon_relevant.apply(toeic2cefr, axis = 1).copy()\n",
    "gachon_relevant.loc[:,'cefr'] = cefr_scores.copy()"
   ]
  },
  {
   "cell_type": "markdown",
   "metadata": {},
   "source": [
    "Reading some texts here to get a better sense of them"
   ]
  },
  {
   "cell_type": "code",
   "execution_count": 57,
   "metadata": {},
   "outputs": [
    {
     "name": "stdout",
     "output_type": "stream",
     "text": [
      "My most hate aggressive driving is Cut in my road.\n",
      "When I beginner level driver, I drive to mart. It was 12:00 pm. It was very bright, not dark. And road is not crowded. No traffic jam.\n",
      "It was vest day for beginner driver…but when I go back to home, run left side big car had cut in my front.\n",
      "I push my break, and i almost dead. And I have trauma drive to out.\n",
      "Cut in is very dengerous driving. It was cause accident. I think, someone have care for other driver, don’t cut in other car’s front.\n",
      "And you must have cut in, you turn on light and give a sing ‘I’ll have cut in your front. It’s OK?’\n",
      "toeic: 440\n",
      "cefr: A2\n"
     ]
    }
   ],
   "source": [
    "text_index = 900\n",
    "print(gachon_relevant.text.iloc[text_index])\n",
    "print('toeic:', gachon_relevant.toeic.iloc[text_index])\n",
    "print('cefr:', gachon_relevant.cefr.iloc[text_index])"
   ]
  },
  {
   "cell_type": "code",
   "execution_count": 27,
   "metadata": {},
   "outputs": [
    {
     "data": {
      "image/png": "[encoded data removed]",
      "text/plain": [
       "<Figure size 432x288 with 1 Axes>"
      ]
     },
     "metadata": {
      "needs_background": "light"
     },
     "output_type": "display_data"
    }
   ],
   "source": [
    "gachon_relevant.cefr.hist(color = 'purple')\n",
    "plt.xlabel('CEFR proficiency level')\n",
    "plt.ylabel('Number of observations');"
   ]
  },
  {
   "cell_type": "code",
   "execution_count": 28,
   "metadata": {},
   "outputs": [],
   "source": [
    "gachon_relevant.to_csv(processed_filepath)"
   ]
  },
  {
   "cell_type": "code",
   "execution_count": 31,
   "metadata": {},
   "outputs": [],
   "source": [
    "import movielingo.text_utils\n",
    "import movielingo.single_text_processor\n",
    "from movielingo.batch_text_processing_multi import create_df_from_texts"
   ]
  },
  {
   "cell_type": "code",
   "execution_count": 32,
   "metadata": {},
   "outputs": [
    {
     "name": "stderr",
     "output_type": "stream",
     "text": [
      "13029it [00:00, 14340.67it/s]\n",
      "  7%|▋         | 976/13028 [08:14<1:41:42,  1.97it/s] Process ForkPoolWorker-2:\n",
      "Traceback (most recent call last):\n",
      "  File \"/opt/anaconda3/envs/insight/lib/python3.7/multiprocessing/process.py\", line 297, in _bootstrap\n",
      "    self.run()\n",
      "  File \"/opt/anaconda3/envs/insight/lib/python3.7/multiprocessing/process.py\", line 99, in run\n",
      "    self._target(*self._args, **self._kwargs)\n",
      "  File \"/opt/anaconda3/envs/insight/lib/python3.7/multiprocessing/pool.py\", line 121, in worker\n",
      "    result = (True, func(*args, **kwds))\n",
      "  File \"../movielingo/movielingo/batch_text_processing_multi.py\", line 35, in process_one_text\n",
      "    features = engineer_features_v2(l2_dict)\n",
      "\n",
      "Process ForkPoolWorker-1:\n",
      "Traceback (most recent call last):\n",
      "  File \"/opt/anaconda3/envs/insight/lib/python3.7/multiprocessing/process.py\", line 297, in _bootstrap\n",
      "    self.run()\n",
      "Process ForkPoolWorker-4:\n",
      "  File \"/opt/anaconda3/envs/insight/lib/python3.7/multiprocessing/process.py\", line 99, in run\n",
      "    self._target(*self._args, **self._kwargs)\n",
      "  File \"/opt/anaconda3/envs/insight/lib/python3.7/multiprocessing/pool.py\", line 121, in worker\n",
      "    result = (True, func(*args, **kwds))\n",
      "  File \"../movielingo/movielingo/batch_text_processing_multi.py\", line 33, in process_one_text\n",
      "    rt.process_self()\n",
      "Traceback (most recent call last):\n",
      "  File \"../movielingo/movielingo/single_text_processor.py\", line 87, in process_self\n",
      "    self.words = [get_corrected_word(word) for word in words_uncorrected]\n",
      "  File \"/opt/anaconda3/envs/insight/lib/python3.7/multiprocessing/process.py\", line 297, in _bootstrap\n",
      "    self.run()\n",
      "  File \"../movielingo/movielingo/single_text_processor.py\", line 87, in <listcomp>\n",
      "    self.words = [get_corrected_word(word) for word in words_uncorrected]\n",
      "  File \"/opt/anaconda3/envs/insight/lib/python3.7/multiprocessing/process.py\", line 99, in run\n",
      "    self._target(*self._args, **self._kwargs)\n",
      "  File \"../movielingo/movielingo/text_utils.py\", line 32, in get_corrected_word\n",
      "    return SPELL.correction(unknown[0])\n",
      "  File \"/opt/anaconda3/envs/insight/lib/python3.7/multiprocessing/pool.py\", line 121, in worker\n",
      "    result = (True, func(*args, **kwds))\n",
      "  File \"/opt/anaconda3/envs/insight/lib/python3.7/site-packages/spellchecker/spellchecker.py\", line 148, in correction\n",
      "    candidates = list(self.candidates(word))\n",
      "  File \"/opt/anaconda3/envs/insight/lib/python3.7/site-packages/spellchecker/spellchecker.py\", line 169, in candidates\n",
      "    tmp = self.known([x for x in self.__edit_distance_alt(res)])\n",
      "  File \"../movielingo/movielingo/batch_text_processing_multi.py\", line 33, in process_one_text\n",
      "    rt.process_self()\n",
      "  File \"/opt/anaconda3/envs/insight/lib/python3.7/site-packages/spellchecker/spellchecker.py\", line 183, in known\n",
      "    words = [ENSURE_UNICODE(w) for w in words]\n",
      "  File \"../movielingo/movielingo/single_text_processor.py\", line 87, in process_self\n",
      "    self.words = [get_corrected_word(word) for word in words_uncorrected]\n",
      "  File \"../movielingo/movielingo/single_text_processor.py\", line 87, in <listcomp>\n",
      "    self.words = [get_corrected_word(word) for word in words_uncorrected]\n",
      "  File \"/opt/anaconda3/envs/insight/lib/python3.7/site-packages/spellchecker/spellchecker.py\", line 183, in <listcomp>\n",
      "    words = [ENSURE_UNICODE(w) for w in words]\n",
      "  File \"../movielingo/movielingo/text_utils.py\", line 32, in get_corrected_word\n",
      "    return SPELL.correction(unknown[0])\n",
      "  File \"/opt/anaconda3/envs/insight/lib/python3.7/site-packages/spellchecker/utils.py\", line 24, in ENSURE_UNICODE\n",
      "    if isinstance(s, bytes):\n",
      "  File \"/opt/anaconda3/envs/insight/lib/python3.7/site-packages/spellchecker/spellchecker.py\", line 148, in correction\n",
      "    candidates = list(self.candidates(word))\n",
      "KeyboardInterrupt\n",
      "  File \"/opt/anaconda3/envs/insight/lib/python3.7/site-packages/spellchecker/spellchecker.py\", line 169, in candidates\n",
      "    tmp = self.known([x for x in self.__edit_distance_alt(res)])\n",
      "  File \"/opt/anaconda3/envs/insight/lib/python3.7/site-packages/spellchecker/spellchecker.py\", line 183, in known\n",
      "    words = [ENSURE_UNICODE(w) for w in words]\n",
      "  File \"/opt/anaconda3/envs/insight/lib/python3.7/site-packages/spellchecker/spellchecker.py\", line 183, in <listcomp>\n",
      "    words = [ENSURE_UNICODE(w) for w in words]\n",
      "KeyboardInterrupt\n",
      "  File \"../movielingo/movielingo/batch_text_processing_multi.py\", line 75, in engineer_features_v2\n",
      "    l2_dict['lemma'] = get_lemma(l2_dict)\n",
      "  File \"../movielingo/movielingo/text_utils.py\", line 39, in get_lemma\n",
      "    lemma_column = get_lemma_word(text_dict)\n",
      "  File \"../movielingo/movielingo/text_utils.py\", line 46, in get_lemma_word\n",
      "    wordnet_pos = get_wordnet_pos(token, loc_pos)\n",
      "KeyboardInterrupt\n",
      "Process ForkPoolWorker-3:\n",
      "Traceback (most recent call last):\n",
      "  File \"/opt/anaconda3/envs/insight/lib/python3.7/multiprocessing/process.py\", line 297, in _bootstrap\n",
      "    self.run()\n",
      "  File \"/opt/anaconda3/envs/insight/lib/python3.7/multiprocessing/process.py\", line 99, in run\n",
      "    self._target(*self._args, **self._kwargs)\n",
      "  File \"/opt/anaconda3/envs/insight/lib/python3.7/multiprocessing/pool.py\", line 121, in worker\n",
      "    result = (True, func(*args, **kwds))\n",
      "  File \"../movielingo/movielingo/batch_text_processing_multi.py\", line 33, in process_one_text\n",
      "    rt.process_self()\n",
      "  File \"../movielingo/movielingo/single_text_processor.py\", line 87, in process_self\n",
      "    self.words = [get_corrected_word(word) for word in words_uncorrected]\n"
     ]
    },
    {
     "ename": "KeyboardInterrupt",
     "evalue": "",
     "output_type": "error",
     "traceback": [
      "\u001b[0;31m---------------------------------------------------------------------------\u001b[0m",
      "\u001b[0;31mKeyboardInterrupt\u001b[0m                         Traceback (most recent call last)",
      "\u001b[0;32m<ipython-input-32-6065bac2db22>\u001b[0m in \u001b[0;36m<module>\u001b[0;34m\u001b[0m\n\u001b[0;32m----> 1\u001b[0;31m \u001b[0mdf\u001b[0m \u001b[0;34m=\u001b[0m \u001b[0mcreate_df_from_texts\u001b[0m\u001b[0;34m(\u001b[0m\u001b[0mprocessed_filename\u001b[0m\u001b[0;34m)\u001b[0m\u001b[0;34m\u001b[0m\u001b[0;34m\u001b[0m\u001b[0m\n\u001b[0m",
      "\u001b[0;32m~/Desktop/insight_fellows/insight-project/insight-data-project/movielingo/movielingo/batch_text_processing_multi.py\u001b[0m in \u001b[0;36mcreate_df_from_texts\u001b[0;34m(filename, mode)\u001b[0m\n\u001b[1;32m     60\u001b[0m \u001b[0;34m\u001b[0m\u001b[0m\n\u001b[1;32m     61\u001b[0m     \u001b[0;32mfor\u001b[0m \u001b[0mfeatures\u001b[0m \u001b[0;32min\u001b[0m \u001b[0mtqdm\u001b[0m\u001b[0;34m.\u001b[0m\u001b[0mtqdm\u001b[0m\u001b[0;34m(\u001b[0m\u001b[0mfeatures_list\u001b[0m\u001b[0;34m)\u001b[0m\u001b[0;34m:\u001b[0m\u001b[0;34m\u001b[0m\u001b[0;34m\u001b[0m\u001b[0m\n\u001b[0;32m---> 62\u001b[0;31m         \u001b[0mfeatures_df\u001b[0m \u001b[0;34m=\u001b[0m \u001b[0mfeatures_df\u001b[0m\u001b[0;34m.\u001b[0m\u001b[0mappend\u001b[0m\u001b[0;34m(\u001b[0m\u001b[0mfeatures\u001b[0m\u001b[0;34m.\u001b[0m\u001b[0mget\u001b[0m\u001b[0;34m(\u001b[0m\u001b[0;34m)\u001b[0m\u001b[0;34m,\u001b[0m \u001b[0mignore_index\u001b[0m\u001b[0;34m=\u001b[0m\u001b[0;32mTrue\u001b[0m\u001b[0;34m)\u001b[0m\u001b[0;34m\u001b[0m\u001b[0;34m\u001b[0m\u001b[0m\n\u001b[0m\u001b[1;32m     63\u001b[0m \u001b[0;34m\u001b[0m\u001b[0m\n\u001b[1;32m     64\u001b[0m     \u001b[0;32mreturn\u001b[0m \u001b[0mfeatures_df\u001b[0m\u001b[0;34m\u001b[0m\u001b[0;34m\u001b[0m\u001b[0m\n",
      "\u001b[0;32m/opt/anaconda3/envs/insight/lib/python3.7/multiprocessing/pool.py\u001b[0m in \u001b[0;36mget\u001b[0;34m(self, timeout)\u001b[0m\n\u001b[1;32m    649\u001b[0m \u001b[0;34m\u001b[0m\u001b[0m\n\u001b[1;32m    650\u001b[0m     \u001b[0;32mdef\u001b[0m \u001b[0mget\u001b[0m\u001b[0;34m(\u001b[0m\u001b[0mself\u001b[0m\u001b[0;34m,\u001b[0m \u001b[0mtimeout\u001b[0m\u001b[0;34m=\u001b[0m\u001b[0;32mNone\u001b[0m\u001b[0;34m)\u001b[0m\u001b[0;34m:\u001b[0m\u001b[0;34m\u001b[0m\u001b[0;34m\u001b[0m\u001b[0m\n\u001b[0;32m--> 651\u001b[0;31m         \u001b[0mself\u001b[0m\u001b[0;34m.\u001b[0m\u001b[0mwait\u001b[0m\u001b[0;34m(\u001b[0m\u001b[0mtimeout\u001b[0m\u001b[0;34m)\u001b[0m\u001b[0;34m\u001b[0m\u001b[0;34m\u001b[0m\u001b[0m\n\u001b[0m\u001b[1;32m    652\u001b[0m         \u001b[0;32mif\u001b[0m \u001b[0;32mnot\u001b[0m \u001b[0mself\u001b[0m\u001b[0;34m.\u001b[0m\u001b[0mready\u001b[0m\u001b[0;34m(\u001b[0m\u001b[0;34m)\u001b[0m\u001b[0;34m:\u001b[0m\u001b[0;34m\u001b[0m\u001b[0;34m\u001b[0m\u001b[0m\n\u001b[1;32m    653\u001b[0m             \u001b[0;32mraise\u001b[0m \u001b[0mTimeoutError\u001b[0m\u001b[0;34m\u001b[0m\u001b[0;34m\u001b[0m\u001b[0m\n",
      "\u001b[0;32m/opt/anaconda3/envs/insight/lib/python3.7/multiprocessing/pool.py\u001b[0m in \u001b[0;36mwait\u001b[0;34m(self, timeout)\u001b[0m\n\u001b[1;32m    646\u001b[0m \u001b[0;34m\u001b[0m\u001b[0m\n\u001b[1;32m    647\u001b[0m     \u001b[0;32mdef\u001b[0m \u001b[0mwait\u001b[0m\u001b[0;34m(\u001b[0m\u001b[0mself\u001b[0m\u001b[0;34m,\u001b[0m \u001b[0mtimeout\u001b[0m\u001b[0;34m=\u001b[0m\u001b[0;32mNone\u001b[0m\u001b[0;34m)\u001b[0m\u001b[0;34m:\u001b[0m\u001b[0;34m\u001b[0m\u001b[0;34m\u001b[0m\u001b[0m\n\u001b[0;32m--> 648\u001b[0;31m         \u001b[0mself\u001b[0m\u001b[0;34m.\u001b[0m\u001b[0m_event\u001b[0m\u001b[0;34m.\u001b[0m\u001b[0mwait\u001b[0m\u001b[0;34m(\u001b[0m\u001b[0mtimeout\u001b[0m\u001b[0;34m)\u001b[0m\u001b[0;34m\u001b[0m\u001b[0;34m\u001b[0m\u001b[0m\n\u001b[0m\u001b[1;32m    649\u001b[0m \u001b[0;34m\u001b[0m\u001b[0m\n\u001b[1;32m    650\u001b[0m     \u001b[0;32mdef\u001b[0m \u001b[0mget\u001b[0m\u001b[0;34m(\u001b[0m\u001b[0mself\u001b[0m\u001b[0;34m,\u001b[0m \u001b[0mtimeout\u001b[0m\u001b[0;34m=\u001b[0m\u001b[0;32mNone\u001b[0m\u001b[0;34m)\u001b[0m\u001b[0;34m:\u001b[0m\u001b[0;34m\u001b[0m\u001b[0;34m\u001b[0m\u001b[0m\n",
      "\u001b[0;32m/opt/anaconda3/envs/insight/lib/python3.7/threading.py\u001b[0m in \u001b[0;36mwait\u001b[0;34m(self, timeout)\u001b[0m\n\u001b[1;32m    550\u001b[0m             \u001b[0msignaled\u001b[0m \u001b[0;34m=\u001b[0m \u001b[0mself\u001b[0m\u001b[0;34m.\u001b[0m\u001b[0m_flag\u001b[0m\u001b[0;34m\u001b[0m\u001b[0;34m\u001b[0m\u001b[0m\n\u001b[1;32m    551\u001b[0m             \u001b[0;32mif\u001b[0m \u001b[0;32mnot\u001b[0m \u001b[0msignaled\u001b[0m\u001b[0;34m:\u001b[0m\u001b[0;34m\u001b[0m\u001b[0;34m\u001b[0m\u001b[0m\n\u001b[0;32m--> 552\u001b[0;31m                 \u001b[0msignaled\u001b[0m \u001b[0;34m=\u001b[0m \u001b[0mself\u001b[0m\u001b[0;34m.\u001b[0m\u001b[0m_cond\u001b[0m\u001b[0;34m.\u001b[0m\u001b[0mwait\u001b[0m\u001b[0;34m(\u001b[0m\u001b[0mtimeout\u001b[0m\u001b[0;34m)\u001b[0m\u001b[0;34m\u001b[0m\u001b[0;34m\u001b[0m\u001b[0m\n\u001b[0m\u001b[1;32m    553\u001b[0m             \u001b[0;32mreturn\u001b[0m \u001b[0msignaled\u001b[0m\u001b[0;34m\u001b[0m\u001b[0;34m\u001b[0m\u001b[0m\n\u001b[1;32m    554\u001b[0m \u001b[0;34m\u001b[0m\u001b[0m\n",
      "\u001b[0;32m/opt/anaconda3/envs/insight/lib/python3.7/threading.py\u001b[0m in \u001b[0;36mwait\u001b[0;34m(self, timeout)\u001b[0m\n\u001b[1;32m    294\u001b[0m         \u001b[0;32mtry\u001b[0m\u001b[0;34m:\u001b[0m    \u001b[0;31m# restore state no matter what (e.g., KeyboardInterrupt)\u001b[0m\u001b[0;34m\u001b[0m\u001b[0;34m\u001b[0m\u001b[0m\n\u001b[1;32m    295\u001b[0m             \u001b[0;32mif\u001b[0m \u001b[0mtimeout\u001b[0m \u001b[0;32mis\u001b[0m \u001b[0;32mNone\u001b[0m\u001b[0;34m:\u001b[0m\u001b[0;34m\u001b[0m\u001b[0;34m\u001b[0m\u001b[0m\n\u001b[0;32m--> 296\u001b[0;31m                 \u001b[0mwaiter\u001b[0m\u001b[0;34m.\u001b[0m\u001b[0macquire\u001b[0m\u001b[0;34m(\u001b[0m\u001b[0;34m)\u001b[0m\u001b[0;34m\u001b[0m\u001b[0;34m\u001b[0m\u001b[0m\n\u001b[0m\u001b[1;32m    297\u001b[0m                 \u001b[0mgotit\u001b[0m \u001b[0;34m=\u001b[0m \u001b[0;32mTrue\u001b[0m\u001b[0;34m\u001b[0m\u001b[0;34m\u001b[0m\u001b[0m\n\u001b[1;32m    298\u001b[0m             \u001b[0;32melse\u001b[0m\u001b[0;34m:\u001b[0m\u001b[0;34m\u001b[0m\u001b[0;34m\u001b[0m\u001b[0m\n",
      "\u001b[0;31mKeyboardInterrupt\u001b[0m: "
     ]
    },
    {
     "name": "stderr",
     "output_type": "stream",
     "text": [
      "  File \"../movielingo/movielingo/single_text_processor.py\", line 87, in <listcomp>\n",
      "    self.words = [get_corrected_word(word) for word in words_uncorrected]\n",
      "  File \"../movielingo/movielingo/text_utils.py\", line 32, in get_corrected_word\n",
      "    return SPELL.correction(unknown[0])\n",
      "  File \"/opt/anaconda3/envs/insight/lib/python3.7/site-packages/spellchecker/spellchecker.py\", line 148, in correction\n",
      "    candidates = list(self.candidates(word))\n",
      "  File \"/opt/anaconda3/envs/insight/lib/python3.7/site-packages/spellchecker/spellchecker.py\", line 169, in candidates\n",
      "    tmp = self.known([x for x in self.__edit_distance_alt(res)])\n",
      "  File \"/opt/anaconda3/envs/insight/lib/python3.7/site-packages/spellchecker/spellchecker.py\", line 258, in __edit_distance_alt\n",
      "    return [e2 for e1 in tmp for e2 in self.edit_distance_1(e1)]\n",
      "  File \"/opt/anaconda3/envs/insight/lib/python3.7/site-packages/spellchecker/spellchecker.py\", line 258, in <listcomp>\n",
      "    return [e2 for e1 in tmp for e2 in self.edit_distance_1(e1)]\n",
      "KeyboardInterrupt\n"
     ]
    }
   ],
   "source": [
    "df = create_df_from_texts(processed_filename) # this can take from 12 min to 5 hours depending on your machine"
   ]
  },
  {
   "cell_type": "code",
   "execution_count": 21,
   "metadata": {},
   "outputs": [],
   "source": [
    "df.to_csv('../data/processed/02_gachon_features.csv', index = False)"
   ]
  },
  {
   "cell_type": "code",
   "execution_count": 33,
   "metadata": {},
   "outputs": [],
   "source": [
    "df = pd.read_csv(processed_directory / '02_gachon_features.csv')"
   ]
  },
  {
   "cell_type": "code",
   "execution_count": 34,
   "metadata": {},
   "outputs": [
    {
     "data": {
      "text/html": [
       "<div>\n",
       "<style scoped>\n",
       "    .dataframe tbody tr th:only-of-type {\n",
       "        vertical-align: middle;\n",
       "    }\n",
       "\n",
       "    .dataframe tbody tr th {\n",
       "        vertical-align: top;\n",
       "    }\n",
       "\n",
       "    .dataframe thead th {\n",
       "        text-align: right;\n",
       "    }\n",
       "</style>\n",
       "<table border=\"1\" class=\"dataframe\">\n",
       "  <thead>\n",
       "    <tr style=\"text-align: right;\">\n",
       "      <th></th>\n",
       "      <th>text_id</th>\n",
       "      <th>L2_proficiency</th>\n",
       "      <th>n_uniq_lemmas</th>\n",
       "      <th>mean_sent_len</th>\n",
       "      <th>median_sent_len</th>\n",
       "      <th>sd_sent_len</th>\n",
       "      <th>mean_word_len</th>\n",
       "      <th>mean_wf_lemma</th>\n",
       "      <th>mean_wf_token</th>\n",
       "      <th>n_unique_verb_forms</th>\n",
       "      <th>n_unique_past_verbs</th>\n",
       "      <th>n_unique_adj</th>\n",
       "      <th>n_unique_adv</th>\n",
       "      <th>n_unique_prepos</th>\n",
       "      <th>n_unique_modals</th>\n",
       "      <th>n_wh</th>\n",
       "    </tr>\n",
       "  </thead>\n",
       "  <tbody>\n",
       "    <tr>\n",
       "      <th>0</th>\n",
       "      <td>21011008_780</td>\n",
       "      <td>780</td>\n",
       "      <td>3.8125</td>\n",
       "      <td>13.125000</td>\n",
       "      <td>12.5</td>\n",
       "      <td>3.479853</td>\n",
       "      <td>105.0</td>\n",
       "      <td>-6.839067</td>\n",
       "      <td>-6.886171</td>\n",
       "      <td>0.047619</td>\n",
       "      <td>0.028571</td>\n",
       "      <td>0.085714</td>\n",
       "      <td>0.057143</td>\n",
       "      <td>6</td>\n",
       "      <td>2</td>\n",
       "      <td>3</td>\n",
       "    </tr>\n",
       "    <tr>\n",
       "      <th>1</th>\n",
       "      <td>21011008_780</td>\n",
       "      <td>780</td>\n",
       "      <td>3.9375</td>\n",
       "      <td>14.571429</td>\n",
       "      <td>15.0</td>\n",
       "      <td>3.886134</td>\n",
       "      <td>102.0</td>\n",
       "      <td>-6.838168</td>\n",
       "      <td>-6.826438</td>\n",
       "      <td>0.058824</td>\n",
       "      <td>0.029412</td>\n",
       "      <td>0.068627</td>\n",
       "      <td>0.068627</td>\n",
       "      <td>9</td>\n",
       "      <td>1</td>\n",
       "      <td>1</td>\n",
       "    </tr>\n",
       "    <tr>\n",
       "      <th>2</th>\n",
       "      <td>21011008_780</td>\n",
       "      <td>780</td>\n",
       "      <td>3.6250</td>\n",
       "      <td>17.200000</td>\n",
       "      <td>15.0</td>\n",
       "      <td>6.584831</td>\n",
       "      <td>86.0</td>\n",
       "      <td>-6.871108</td>\n",
       "      <td>-6.902001</td>\n",
       "      <td>0.069767</td>\n",
       "      <td>0.069767</td>\n",
       "      <td>0.081395</td>\n",
       "      <td>0.058140</td>\n",
       "      <td>9</td>\n",
       "      <td>1</td>\n",
       "      <td>3</td>\n",
       "    </tr>\n",
       "    <tr>\n",
       "      <th>3</th>\n",
       "      <td>21011008_780</td>\n",
       "      <td>780</td>\n",
       "      <td>3.5625</td>\n",
       "      <td>15.000000</td>\n",
       "      <td>16.0</td>\n",
       "      <td>4.035556</td>\n",
       "      <td>105.0</td>\n",
       "      <td>-6.891807</td>\n",
       "      <td>-6.938099</td>\n",
       "      <td>0.038095</td>\n",
       "      <td>0.038095</td>\n",
       "      <td>0.076190</td>\n",
       "      <td>0.028571</td>\n",
       "      <td>10</td>\n",
       "      <td>3</td>\n",
       "      <td>4</td>\n",
       "    </tr>\n",
       "    <tr>\n",
       "      <th>4</th>\n",
       "      <td>21011008_780</td>\n",
       "      <td>780</td>\n",
       "      <td>3.6875</td>\n",
       "      <td>13.625000</td>\n",
       "      <td>10.5</td>\n",
       "      <td>6.081478</td>\n",
       "      <td>109.0</td>\n",
       "      <td>-7.128087</td>\n",
       "      <td>-7.071439</td>\n",
       "      <td>0.045872</td>\n",
       "      <td>0.036697</td>\n",
       "      <td>0.055046</td>\n",
       "      <td>0.082569</td>\n",
       "      <td>6</td>\n",
       "      <td>3</td>\n",
       "      <td>0</td>\n",
       "    </tr>\n",
       "  </tbody>\n",
       "</table>\n",
       "</div>"
      ],
      "text/plain": [
       "        text_id  L2_proficiency  n_uniq_lemmas  mean_sent_len  \\\n",
       "0  21011008_780             780         3.8125      13.125000   \n",
       "1  21011008_780             780         3.9375      14.571429   \n",
       "2  21011008_780             780         3.6250      17.200000   \n",
       "3  21011008_780             780         3.5625      15.000000   \n",
       "4  21011008_780             780         3.6875      13.625000   \n",
       "\n",
       "   median_sent_len  sd_sent_len  mean_word_len  mean_wf_lemma  mean_wf_token  \\\n",
       "0             12.5     3.479853          105.0      -6.839067      -6.886171   \n",
       "1             15.0     3.886134          102.0      -6.838168      -6.826438   \n",
       "2             15.0     6.584831           86.0      -6.871108      -6.902001   \n",
       "3             16.0     4.035556          105.0      -6.891807      -6.938099   \n",
       "4             10.5     6.081478          109.0      -7.128087      -7.071439   \n",
       "\n",
       "   n_unique_verb_forms  n_unique_past_verbs  n_unique_adj  n_unique_adv  \\\n",
       "0             0.047619             0.028571      0.085714      0.057143   \n",
       "1             0.058824             0.029412      0.068627      0.068627   \n",
       "2             0.069767             0.069767      0.081395      0.058140   \n",
       "3             0.038095             0.038095      0.076190      0.028571   \n",
       "4             0.045872             0.036697      0.055046      0.082569   \n",
       "\n",
       "   n_unique_prepos  n_unique_modals  n_wh  \n",
       "0                6                2     3  \n",
       "1                9                1     1  \n",
       "2                9                1     3  \n",
       "3               10                3     4  \n",
       "4                6                3     0  "
      ]
     },
     "execution_count": 34,
     "metadata": {},
     "output_type": "execute_result"
    }
   ],
   "source": [
    "df.head()"
   ]
  },
  {
   "cell_type": "code",
   "execution_count": 36,
   "metadata": {},
   "outputs": [
    {
     "data": {
      "image/png": "[encoded data removed]",
      "text/plain": [
       "<Figure size 720x720 with 16 Axes>"
      ]
     },
     "metadata": {
      "needs_background": "light"
     },
     "output_type": "display_data"
    }
   ],
   "source": [
    "df.hist(figsize = (10,10), bins = 20, color = 'pink');"
   ]
  },
  {
   "cell_type": "code",
   "execution_count": 38,
   "metadata": {},
   "outputs": [
    {
     "data": {
      "image/png": "[encoded data removed]",
      "text/plain": [
       "<Figure size 504x504 with 2 Axes>"
      ]
     },
     "metadata": {
      "needs_background": "light"
     },
     "output_type": "display_data"
    }
   ],
   "source": [
    "f, ax = plt.subplots(figsize=(7, 7))\n",
    "corr = df.corr()\n",
    "sns.heatmap(corr, mask=np.zeros_like(corr, dtype=np.bool), cmap=sns.diverging_palette(220, 10, as_cmap=True),\n",
    "            square=True, ax=ax);"
   ]
  },
  {
   "cell_type": "code",
   "execution_count": null,
   "metadata": {},
   "outputs": [],
   "source": []
  }
 ],
 "metadata": {
  "kernelspec": {
   "display_name": "Python 3",
   "language": "python",
   "name": "python3"
  },
  "language_info": {
   "codemirror_mode": {
    "name": "ipython",
    "version": 3
   },
   "file_extension": ".py",
   "mimetype": "text/x-python",
   "name": "python",
   "nbconvert_exporter": "python",
   "pygments_lexer": "ipython3",
   "version": "3.7.7"
  }
 },
 "nbformat": 4,
 "nbformat_minor": 4
}
