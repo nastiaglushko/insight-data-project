{
 "cells": [
  {
   "cell_type": "code",
   "execution_count": 11,
   "metadata": {},
   "outputs": [],
   "source": [
    "import pandas as pd\n",
    "import sys\n",
    "sys.path.append(\"../movielingo/\")\n",
    "\n",
    "from matplotlib import pyplot as plt\n",
    "from movielingo.config import processed_data_dir\n",
    "import numpy as np\n",
    "import seaborn as sns\n",
    "from sklearn.decomposition import PCA"
   ]
  },
  {
   "cell_type": "markdown",
   "metadata": {},
   "source": [
    "## 01. Load subtitle features"
   ]
  },
  {
   "cell_type": "code",
   "execution_count": 165,
   "metadata": {},
   "outputs": [],
   "source": [
    "df = pd.read_csv(processed_data_dir / 'movie_features.csv') # df created in get_nearest_neighbours.py"
   ]
  },
  {
   "cell_type": "code",
   "execution_count": 166,
   "metadata": {},
   "outputs": [
    {
     "data": {
      "text/html": [
       "<div>\n",
       "<style scoped>\n",
       "    .dataframe tbody tr th:only-of-type {\n",
       "        vertical-align: middle;\n",
       "    }\n",
       "\n",
       "    .dataframe tbody tr th {\n",
       "        vertical-align: top;\n",
       "    }\n",
       "\n",
       "    .dataframe thead th {\n",
       "        text-align: right;\n",
       "    }\n",
       "</style>\n",
       "<table border=\"1\" class=\"dataframe\">\n",
       "  <thead>\n",
       "    <tr style=\"text-align: right;\">\n",
       "      <th></th>\n",
       "      <th>n_uniq_lemmas</th>\n",
       "      <th>mean_sent_len</th>\n",
       "      <th>median_sent_len</th>\n",
       "      <th>sd_sent_len</th>\n",
       "      <th>mean_word_len</th>\n",
       "      <th>mean_wf_lemma</th>\n",
       "      <th>mean_wf_token</th>\n",
       "      <th>mean_n_uniq_rare_lemmas</th>\n",
       "      <th>n_unique_verb_forms</th>\n",
       "      <th>n_unique_past_verbs</th>\n",
       "      <th>...</th>\n",
       "      <th>vp_t</th>\n",
       "      <th>c_t</th>\n",
       "      <th>cp_t</th>\n",
       "      <th>cp_c</th>\n",
       "      <th>cn_t</th>\n",
       "      <th>cn_c</th>\n",
       "      <th>ct_t</th>\n",
       "      <th>t_s</th>\n",
       "      <th>dc_t</th>\n",
       "      <th>dc_c</th>\n",
       "    </tr>\n",
       "    <tr>\n",
       "      <th>title</th>\n",
       "      <th></th>\n",
       "      <th></th>\n",
       "      <th></th>\n",
       "      <th></th>\n",
       "      <th></th>\n",
       "      <th></th>\n",
       "      <th></th>\n",
       "      <th></th>\n",
       "      <th></th>\n",
       "      <th></th>\n",
       "      <th></th>\n",
       "      <th></th>\n",
       "      <th></th>\n",
       "      <th></th>\n",
       "      <th></th>\n",
       "      <th></th>\n",
       "      <th></th>\n",
       "      <th></th>\n",
       "      <th></th>\n",
       "      <th></th>\n",
       "      <th></th>\n",
       "    </tr>\n",
       "  </thead>\n",
       "  <tbody>\n",
       "    <tr>\n",
       "      <th>Aladdin</th>\n",
       "      <td>0.495238</td>\n",
       "      <td>5.380952</td>\n",
       "      <td>4.500000</td>\n",
       "      <td>3.170889</td>\n",
       "      <td>16.142857</td>\n",
       "      <td>-7.894976</td>\n",
       "      <td>-7.974298</td>\n",
       "      <td>0.115229</td>\n",
       "      <td>0.176062</td>\n",
       "      <td>0.033357</td>\n",
       "      <td>...</td>\n",
       "      <td>1.206107</td>\n",
       "      <td>1.094156</td>\n",
       "      <td>0.003571</td>\n",
       "      <td>0.002381</td>\n",
       "      <td>0.076662</td>\n",
       "      <td>0.062911</td>\n",
       "      <td>0.003571</td>\n",
       "      <td>6.464286</td>\n",
       "      <td>0.003571</td>\n",
       "      <td>0.002381</td>\n",
       "    </tr>\n",
       "    <tr>\n",
       "      <th>Annie Hall</th>\n",
       "      <td>0.511111</td>\n",
       "      <td>5.583333</td>\n",
       "      <td>5.083333</td>\n",
       "      <td>2.634484</td>\n",
       "      <td>16.750000</td>\n",
       "      <td>-7.378330</td>\n",
       "      <td>-7.559443</td>\n",
       "      <td>0.073346</td>\n",
       "      <td>0.190244</td>\n",
       "      <td>0.068620</td>\n",
       "      <td>...</td>\n",
       "      <td>1.228456</td>\n",
       "      <td>1.149002</td>\n",
       "      <td>0.002688</td>\n",
       "      <td>0.001634</td>\n",
       "      <td>0.174629</td>\n",
       "      <td>0.136318</td>\n",
       "      <td>0.017678</td>\n",
       "      <td>9.500000</td>\n",
       "      <td>0.017678</td>\n",
       "      <td>0.011373</td>\n",
       "    </tr>\n",
       "    <tr>\n",
       "      <th>Back to the Future</th>\n",
       "      <td>0.752778</td>\n",
       "      <td>8.888889</td>\n",
       "      <td>7.250000</td>\n",
       "      <td>5.309460</td>\n",
       "      <td>26.666667</td>\n",
       "      <td>-7.234915</td>\n",
       "      <td>-7.331244</td>\n",
       "      <td>0.050172</td>\n",
       "      <td>0.130342</td>\n",
       "      <td>0.026089</td>\n",
       "      <td>...</td>\n",
       "      <td>1.768734</td>\n",
       "      <td>1.410732</td>\n",
       "      <td>0.010354</td>\n",
       "      <td>0.006250</td>\n",
       "      <td>0.171881</td>\n",
       "      <td>0.111389</td>\n",
       "      <td>0.022024</td>\n",
       "      <td>9.000000</td>\n",
       "      <td>0.034127</td>\n",
       "      <td>0.021944</td>\n",
       "    </tr>\n",
       "    <tr>\n",
       "      <th>Beauty and the Beast</th>\n",
       "      <td>0.538462</td>\n",
       "      <td>6.000000</td>\n",
       "      <td>5.769231</td>\n",
       "      <td>3.043244</td>\n",
       "      <td>18.000000</td>\n",
       "      <td>-7.290477</td>\n",
       "      <td>-7.394038</td>\n",
       "      <td>0.067717</td>\n",
       "      <td>0.189825</td>\n",
       "      <td>0.038167</td>\n",
       "      <td>...</td>\n",
       "      <td>1.662471</td>\n",
       "      <td>1.486014</td>\n",
       "      <td>0.002564</td>\n",
       "      <td>0.002564</td>\n",
       "      <td>0.087762</td>\n",
       "      <td>0.062381</td>\n",
       "      <td>0.026807</td>\n",
       "      <td>7.487179</td>\n",
       "      <td>0.047319</td>\n",
       "      <td>0.023223</td>\n",
       "    </tr>\n",
       "    <tr>\n",
       "      <th>Casablanca</th>\n",
       "      <td>0.500000</td>\n",
       "      <td>5.520833</td>\n",
       "      <td>5.062500</td>\n",
       "      <td>2.841294</td>\n",
       "      <td>16.562500</td>\n",
       "      <td>-7.399027</td>\n",
       "      <td>-7.512743</td>\n",
       "      <td>0.101489</td>\n",
       "      <td>0.204022</td>\n",
       "      <td>0.068748</td>\n",
       "      <td>...</td>\n",
       "      <td>1.487044</td>\n",
       "      <td>1.214286</td>\n",
       "      <td>0.008333</td>\n",
       "      <td>0.007812</td>\n",
       "      <td>0.086175</td>\n",
       "      <td>0.071220</td>\n",
       "      <td>0.012351</td>\n",
       "      <td>6.510417</td>\n",
       "      <td>0.021577</td>\n",
       "      <td>0.015037</td>\n",
       "    </tr>\n",
       "  </tbody>\n",
       "</table>\n",
       "<p>5 rows × 29 columns</p>\n",
       "</div>"
      ],
      "text/plain": [
       "                      n_uniq_lemmas  mean_sent_len  median_sent_len  \\\n",
       "title                                                                 \n",
       "Aladdin                    0.495238       5.380952         4.500000   \n",
       "Annie Hall                 0.511111       5.583333         5.083333   \n",
       "Back to the Future         0.752778       8.888889         7.250000   \n",
       "Beauty and the Beast       0.538462       6.000000         5.769231   \n",
       "Casablanca                 0.500000       5.520833         5.062500   \n",
       "\n",
       "                      sd_sent_len  mean_word_len  mean_wf_lemma  \\\n",
       "title                                                             \n",
       "Aladdin                  3.170889      16.142857      -7.894976   \n",
       "Annie Hall               2.634484      16.750000      -7.378330   \n",
       "Back to the Future       5.309460      26.666667      -7.234915   \n",
       "Beauty and the Beast     3.043244      18.000000      -7.290477   \n",
       "Casablanca               2.841294      16.562500      -7.399027   \n",
       "\n",
       "                      mean_wf_token  mean_n_uniq_rare_lemmas  \\\n",
       "title                                                          \n",
       "Aladdin                   -7.974298                 0.115229   \n",
       "Annie Hall                -7.559443                 0.073346   \n",
       "Back to the Future        -7.331244                 0.050172   \n",
       "Beauty and the Beast      -7.394038                 0.067717   \n",
       "Casablanca                -7.512743                 0.101489   \n",
       "\n",
       "                      n_unique_verb_forms  n_unique_past_verbs  ...      vp_t  \\\n",
       "title                                                           ...             \n",
       "Aladdin                          0.176062             0.033357  ...  1.206107   \n",
       "Annie Hall                       0.190244             0.068620  ...  1.228456   \n",
       "Back to the Future               0.130342             0.026089  ...  1.768734   \n",
       "Beauty and the Beast             0.189825             0.038167  ...  1.662471   \n",
       "Casablanca                       0.204022             0.068748  ...  1.487044   \n",
       "\n",
       "                           c_t      cp_t      cp_c      cn_t      cn_c  \\\n",
       "title                                                                    \n",
       "Aladdin               1.094156  0.003571  0.002381  0.076662  0.062911   \n",
       "Annie Hall            1.149002  0.002688  0.001634  0.174629  0.136318   \n",
       "Back to the Future    1.410732  0.010354  0.006250  0.171881  0.111389   \n",
       "Beauty and the Beast  1.486014  0.002564  0.002564  0.087762  0.062381   \n",
       "Casablanca            1.214286  0.008333  0.007812  0.086175  0.071220   \n",
       "\n",
       "                          ct_t       t_s      dc_t      dc_c  \n",
       "title                                                         \n",
       "Aladdin               0.003571  6.464286  0.003571  0.002381  \n",
       "Annie Hall            0.017678  9.500000  0.017678  0.011373  \n",
       "Back to the Future    0.022024  9.000000  0.034127  0.021944  \n",
       "Beauty and the Beast  0.026807  7.487179  0.047319  0.023223  \n",
       "Casablanca            0.012351  6.510417  0.021577  0.015037  \n",
       "\n",
       "[5 rows x 29 columns]"
      ]
     },
     "execution_count": 166,
     "metadata": {},
     "output_type": "execute_result"
    }
   ],
   "source": [
    "df.head()"
   ]
  },
  {
   "cell_type": "code",
   "execution_count": 10,
   "metadata": {},
   "outputs": [
    {
     "data": {
      "text/plain": [
       "(62, 30)"
      ]
     },
     "execution_count": 10,
     "metadata": {},
     "output_type": "execute_result"
    }
   ],
   "source": [
    "df.shape"
   ]
  },
  {
   "cell_type": "code",
   "execution_count": 5,
   "metadata": {},
   "outputs": [
    {
     "data": {
      "image/png": "[encoded data removed]",
      "text/plain": [
       "<Figure size 576x576 with 2 Axes>"
      ]
     },
     "metadata": {
      "needs_background": "light"
     },
     "output_type": "display_data"
    }
   ],
   "source": [
    "f, ax = plt.subplots(figsize=(8, 8))\n",
    "corr = df.corr()\n",
    "sns.heatmap(corr, mask=np.zeros_like(corr, dtype=np.bool), cmap=sns.diverging_palette(220, 10, as_cmap=True),\n",
    "            square=True, ax=ax);"
   ]
  },
  {
   "cell_type": "markdown",
   "metadata": {},
   "source": [
    "Some features are highly correlated (+ mean sentence length is mentioned twice), so I will apply PCA to get more sensible recommendations.\n",
    "\n",
    "## 02. PCA\n",
    "\n",
    "Goal: pick a reasonable number of components"
   ]
  },
  {
   "cell_type": "code",
   "execution_count": 31,
   "metadata": {},
   "outputs": [],
   "source": [
    "X = df.drop(['title', 'mls'], axis = 1)"
   ]
  },
  {
   "cell_type": "code",
   "execution_count": 32,
   "metadata": {},
   "outputs": [
    {
     "data": {
      "image/png": "[encoded data removed]",
      "text/plain": [
       "<Figure size 432x288 with 1 Axes>"
      ]
     },
     "metadata": {
      "needs_background": "light"
     },
     "output_type": "display_data"
    }
   ],
   "source": [
    "pca = PCA().fit(X)\n",
    "plt.plot(np.cumsum(pca.explained_variance_ratio_))\n",
    "plt.xlabel('number of components')\n",
    "plt.ylabel('cumulative explained variance')\n",
    "plt.xlim(0,10);"
   ]
  },
  {
   "cell_type": "code",
   "execution_count": 33,
   "metadata": {},
   "outputs": [
    {
     "data": {
      "text/plain": [
       "(62, 6)"
      ]
     },
     "execution_count": 33,
     "metadata": {},
     "output_type": "execute_result"
    }
   ],
   "source": [
    "pca6 = PCA(n_components=6)\n",
    "pca6.fit(X)\n",
    "projected = pca6.fit_transform(X)\n",
    "projected.shape"
   ]
  },
  {
   "cell_type": "markdown",
   "metadata": {},
   "source": [
    "## 03. Expore difficulty by movie genre\n",
    "\n",
    "Do some genre have more complex language than others?"
   ]
  },
  {
   "cell_type": "code",
   "execution_count": 65,
   "metadata": {},
   "outputs": [],
   "source": [
    "imdb = pd.read_csv(processed_data_dir / 'top250_movie_characteristics.txt',\n",
    "                   sep = '\\t',\n",
    "                   names = ['id', 'title', 'genre', 'movie_or_show', 'keywords', 'rating'],\n",
    "                   dtype = {'id': str, 'rating': float})"
   ]
  },
  {
   "cell_type": "code",
   "execution_count": 66,
   "metadata": {},
   "outputs": [],
   "source": [
    "imdb.loc[:,'title'] = imdb.title.str.split(' \\(.{4,40}\\) - IMDb', expand=True)[0].str.strip()"
   ]
  },
  {
   "cell_type": "code",
   "execution_count": 67,
   "metadata": {},
   "outputs": [
    {
     "data": {
      "text/plain": [
       "(67, 6)"
      ]
     },
     "execution_count": 67,
     "metadata": {},
     "output_type": "execute_result"
    }
   ],
   "source": [
    "imdb.shape"
   ]
  },
  {
   "cell_type": "code",
   "execution_count": 68,
   "metadata": {},
   "outputs": [],
   "source": [
    "imdb = imdb[imdb.title.isin(list(df.title.unique()))]"
   ]
  },
  {
   "cell_type": "code",
   "execution_count": 69,
   "metadata": {},
   "outputs": [
    {
     "data": {
      "text/plain": [
       "(62, 6)"
      ]
     },
     "execution_count": 69,
     "metadata": {},
     "output_type": "execute_result"
    }
   ],
   "source": [
    "imdb.shape"
   ]
  },
  {
   "cell_type": "code",
   "execution_count": 70,
   "metadata": {},
   "outputs": [],
   "source": [
    "genre_db = imdb.genre"
   ]
  },
  {
   "cell_type": "code",
   "execution_count": 71,
   "metadata": {},
   "outputs": [],
   "source": [
    "all_genre = []\n",
    "for movie in range(genre_db.shape[0]):\n",
    "    all_genre = all_genre + list(genre_db.str.split(',', expand = True).iloc[movie])"
   ]
  },
  {
   "cell_type": "code",
   "execution_count": 72,
   "metadata": {},
   "outputs": [],
   "source": [
    "unique_genre = list(set(all_genre))"
   ]
  },
  {
   "cell_type": "code",
   "execution_count": 73,
   "metadata": {},
   "outputs": [],
   "source": [
    "# take the second element for sort\n",
    "def take_second(elem):\n",
    "    return elem[1]"
   ]
  },
  {
   "cell_type": "code",
   "execution_count": 74,
   "metadata": {},
   "outputs": [
    {
     "data": {
      "text/plain": [
       "[('Western', 1),\n",
       " ('Thriller', 1),\n",
       " ('Mystery', 1),\n",
       " ('Sport', 2),\n",
       " ('Biography', 2),\n",
       " ('War', 4),\n",
       " ('Musical', 6),\n",
       " ('Music', 7),\n",
       " ('Sci-Fi', 7),\n",
       " ('Crime', 8),\n",
       " ('Animation', 14),\n",
       " ('Action', 14),\n",
       " ('Romance', 16),\n",
       " ('Family', 19),\n",
       " ('Fantasy', 20),\n",
       " ('Drama', 25),\n",
       " ('Adventure', 31),\n",
       " ('Comedy', 35)]"
      ]
     },
     "execution_count": 74,
     "metadata": {},
     "output_type": "execute_result"
    }
   ],
   "source": [
    "genres = []\n",
    "counts = []\n",
    "for genre in unique_genre:\n",
    "    try:\n",
    "        counts.append(imdb[imdb.genre.str.contains(genre)].title.nunique())\n",
    "        genres.append(genre)\n",
    "    except:\n",
    "        pass\n",
    "genre_summary = zip(genres, counts)\n",
    "sorted(genre_summary, key = take_second)"
   ]
  },
  {
   "cell_type": "code",
   "execution_count": 75,
   "metadata": {},
   "outputs": [],
   "source": [
    "genres_list = []\n",
    "for movie in range(genre_db.shape[0]):\n",
    "    genres_list.append(list(genre_db.str.split(',', expand = True).iloc[movie]))\n",
    "    \n",
    "imdb['genre_list'] = genres_list\n",
    "\n",
    "imdb['is_animation'] = imdb.apply(lambda row: True if 'Animation' in row.genre_list else False, axis = 1)\n",
    "imdb['is_action'] = imdb.apply(lambda row: True if 'Action' in row.genre_list else False, axis = 1)\n",
    "imdb['is_romance'] = imdb.apply(lambda row: True if 'Romance' in row.genre_list else False, axis = 1)\n",
    "imdb['is_family'] = imdb.apply(lambda row: True if 'Family' in row.genre_list else False, axis = 1)\n",
    "imdb['is_fantasy'] = imdb.apply(lambda row: True if 'Fantasy' in row.genre_list else False, axis = 1)\n",
    "imdb['is_drama'] = imdb.apply(lambda row: True if 'Drama' in row.genre_list else False, axis = 1)\n",
    "imdb['is_adventure'] = imdb.apply(lambda row: True if 'Adventure' in row.genre_list else False, axis = 1)\n",
    "imdb['is_comedy'] = imdb.apply(lambda row: True if 'Comedy' in row.genre_list else False, axis = 1)"
   ]
  },
  {
   "cell_type": "code",
   "execution_count": 77,
   "metadata": {},
   "outputs": [
    {
     "data": {
      "text/html": [
       "<div>\n",
       "<style scoped>\n",
       "    .dataframe tbody tr th:only-of-type {\n",
       "        vertical-align: middle;\n",
       "    }\n",
       "\n",
       "    .dataframe tbody tr th {\n",
       "        vertical-align: top;\n",
       "    }\n",
       "\n",
       "    .dataframe thead th {\n",
       "        text-align: right;\n",
       "    }\n",
       "</style>\n",
       "<table border=\"1\" class=\"dataframe\">\n",
       "  <thead>\n",
       "    <tr style=\"text-align: right;\">\n",
       "      <th></th>\n",
       "      <th>id</th>\n",
       "      <th>title</th>\n",
       "      <th>genre</th>\n",
       "      <th>movie_or_show</th>\n",
       "      <th>keywords</th>\n",
       "      <th>rating</th>\n",
       "      <th>genre_list</th>\n",
       "      <th>is_animation</th>\n",
       "      <th>is_action</th>\n",
       "      <th>is_romance</th>\n",
       "      <th>is_family</th>\n",
       "      <th>is_fantasy</th>\n",
       "      <th>is_drama</th>\n",
       "      <th>is_adventure</th>\n",
       "      <th>is_comedy</th>\n",
       "    </tr>\n",
       "  </thead>\n",
       "  <tbody>\n",
       "    <tr>\n",
       "      <th>0</th>\n",
       "      <td>0167260</td>\n",
       "      <td>The Lord of the Rings: The Return of the King</td>\n",
       "      <td>Adventure,Drama,Fantasy</td>\n",
       "      <td>Movie</td>\n",
       "      <td>orc,epic,battle,journey,hobbit</td>\n",
       "      <td>8.9</td>\n",
       "      <td>[Adventure, Drama, Fantasy, None, None, None, ...</td>\n",
       "      <td>False</td>\n",
       "      <td>False</td>\n",
       "      <td>False</td>\n",
       "      <td>False</td>\n",
       "      <td>True</td>\n",
       "      <td>True</td>\n",
       "      <td>True</td>\n",
       "      <td>False</td>\n",
       "    </tr>\n",
       "    <tr>\n",
       "      <th>1</th>\n",
       "      <td>0110912</td>\n",
       "      <td>Pulp Fiction</td>\n",
       "      <td>Crime,Drama</td>\n",
       "      <td>Movie</td>\n",
       "      <td>nonlinear timeline,overdose,drug overdose,bond...</td>\n",
       "      <td>8.9</td>\n",
       "      <td>[Crime, Drama, None, None, None, None, None]</td>\n",
       "      <td>False</td>\n",
       "      <td>False</td>\n",
       "      <td>False</td>\n",
       "      <td>False</td>\n",
       "      <td>False</td>\n",
       "      <td>True</td>\n",
       "      <td>False</td>\n",
       "      <td>False</td>\n",
       "    </tr>\n",
       "    <tr>\n",
       "      <th>2</th>\n",
       "      <td>0120737</td>\n",
       "      <td>The Lord of the Rings: The Fellowship of the Ring</td>\n",
       "      <td>Action,Adventure,Drama,Fantasy</td>\n",
       "      <td>Movie</td>\n",
       "      <td>ring,quest,hobbit,elf,orc</td>\n",
       "      <td>8.8</td>\n",
       "      <td>[Action, Adventure, Drama, Fantasy, None, None...</td>\n",
       "      <td>False</td>\n",
       "      <td>True</td>\n",
       "      <td>False</td>\n",
       "      <td>False</td>\n",
       "      <td>True</td>\n",
       "      <td>True</td>\n",
       "      <td>True</td>\n",
       "      <td>False</td>\n",
       "    </tr>\n",
       "    <tr>\n",
       "      <th>3</th>\n",
       "      <td>0109830</td>\n",
       "      <td>Forrest Gump</td>\n",
       "      <td>Drama,Romance</td>\n",
       "      <td>Movie</td>\n",
       "      <td>vietnam war,amputee,war hero,vietnam,mother</td>\n",
       "      <td>8.8</td>\n",
       "      <td>[Drama, Romance, None, None, None, None, None]</td>\n",
       "      <td>False</td>\n",
       "      <td>False</td>\n",
       "      <td>True</td>\n",
       "      <td>False</td>\n",
       "      <td>False</td>\n",
       "      <td>True</td>\n",
       "      <td>False</td>\n",
       "      <td>False</td>\n",
       "    </tr>\n",
       "    <tr>\n",
       "      <th>4</th>\n",
       "      <td>0167261</td>\n",
       "      <td>The Lord of the Rings: The Two Towers</td>\n",
       "      <td>Adventure,Drama,Fantasy</td>\n",
       "      <td>Movie</td>\n",
       "      <td>middle earth,wizard,mission,hobbit,dwarf</td>\n",
       "      <td>8.7</td>\n",
       "      <td>[Adventure, Drama, Fantasy, None, None, None, ...</td>\n",
       "      <td>False</td>\n",
       "      <td>False</td>\n",
       "      <td>False</td>\n",
       "      <td>False</td>\n",
       "      <td>True</td>\n",
       "      <td>True</td>\n",
       "      <td>True</td>\n",
       "      <td>False</td>\n",
       "    </tr>\n",
       "  </tbody>\n",
       "</table>\n",
       "</div>"
      ],
      "text/plain": [
       "        id                                              title  \\\n",
       "0  0167260      The Lord of the Rings: The Return of the King   \n",
       "1  0110912                                       Pulp Fiction   \n",
       "2  0120737  The Lord of the Rings: The Fellowship of the Ring   \n",
       "3  0109830                                       Forrest Gump   \n",
       "4  0167261              The Lord of the Rings: The Two Towers   \n",
       "\n",
       "                            genre movie_or_show  \\\n",
       "0         Adventure,Drama,Fantasy         Movie   \n",
       "1                     Crime,Drama         Movie   \n",
       "2  Action,Adventure,Drama,Fantasy         Movie   \n",
       "3                   Drama,Romance         Movie   \n",
       "4         Adventure,Drama,Fantasy         Movie   \n",
       "\n",
       "                                            keywords  rating  \\\n",
       "0                     orc,epic,battle,journey,hobbit     8.9   \n",
       "1  nonlinear timeline,overdose,drug overdose,bond...     8.9   \n",
       "2                          ring,quest,hobbit,elf,orc     8.8   \n",
       "3        vietnam war,amputee,war hero,vietnam,mother     8.8   \n",
       "4           middle earth,wizard,mission,hobbit,dwarf     8.7   \n",
       "\n",
       "                                          genre_list  is_animation  is_action  \\\n",
       "0  [Adventure, Drama, Fantasy, None, None, None, ...         False      False   \n",
       "1       [Crime, Drama, None, None, None, None, None]         False      False   \n",
       "2  [Action, Adventure, Drama, Fantasy, None, None...         False       True   \n",
       "3     [Drama, Romance, None, None, None, None, None]         False      False   \n",
       "4  [Adventure, Drama, Fantasy, None, None, None, ...         False      False   \n",
       "\n",
       "   is_romance  is_family  is_fantasy  is_drama  is_adventure  is_comedy  \n",
       "0       False      False        True      True          True      False  \n",
       "1       False      False       False      True         False      False  \n",
       "2       False      False        True      True          True      False  \n",
       "3        True      False       False      True         False      False  \n",
       "4       False      False        True      True          True      False  "
      ]
     },
     "execution_count": 77,
     "metadata": {},
     "output_type": "execute_result"
    }
   ],
   "source": [
    "imdb.head()"
   ]
  },
  {
   "cell_type": "code",
   "execution_count": 162,
   "metadata": {},
   "outputs": [
    {
     "data": {
      "image/png": "[encoded data removed]",
      "text/plain": [
       "<Figure size 1440x360 with 1 Axes>"
      ]
     },
     "metadata": {
      "needs_background": "light"
     },
     "output_type": "display_data"
    }
   ],
   "source": [
    "genre_columns = ['is_animation', 'is_action',\n",
    "                 'is_romance', 'is_family',\n",
    "                 'is_fantasy', 'is_drama',\n",
    "                 'is_adventure', 'is_comedy']\n",
    "\n",
    "n_columns = len(genre_columns)\n",
    "n_pca = projected.shape[1]\n",
    "\n",
    "plt.subplots(figsize = (20,5))\n",
    "for position, column in enumerate(genre_columns):\n",
    "    positions = range(position, position + n_columns*n_pca, n_columns)\n",
    "    data = projected[imdb[column]]\n",
    "    labels = [column + '1', column + '2', column + '3', column + '4', column + '5', column + '6']\n",
    "    plt.boxplot(data, positions = positions, labels = labels)\n",
    "    plt.xticks(rotation='vertical')\n",
    "    plt.title('Principal components by movie genre')"
   ]
  },
  {
   "cell_type": "code",
   "execution_count": 163,
   "metadata": {},
   "outputs": [],
   "source": [
    "imdb.to_csv(processed_data_dir / 'movie_details_db.csv', index=False)"
   ]
  }
 ],
 "metadata": {
  "kernelspec": {
   "display_name": "Python 3",
   "language": "python",
   "name": "python3"
  },
  "language_info": {
   "codemirror_mode": {
    "name": "ipython",
    "version": 3
   },
   "file_extension": ".py",
   "mimetype": "text/x-python",
   "name": "python",
   "nbconvert_exporter": "python",
   "pygments_lexer": "ipython3",
   "version": "3.7.7"
  }
 },
 "nbformat": 4,
 "nbformat_minor": 4
}
