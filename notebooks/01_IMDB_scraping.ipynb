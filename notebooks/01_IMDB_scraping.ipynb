{
 "cells": [
  {
   "cell_type": "markdown",
   "metadata": {},
   "source": [
    "# Scrape IMDB to match movie IDs with movie titles"
   ]
  },
  {
   "cell_type": "code",
   "execution_count": 1,
   "metadata": {},
   "outputs": [],
   "source": [
    "import pandas as pd\n",
    "import numpy as np\n",
    "from requests import get\n",
    "from bs4 import BeautifulSoup\n",
    "import re\n",
    "import os\n",
    "import sys\n",
    "sys.path.append(\"../movielingo/\")\n",
    "%load_ext autoreload\n",
    "%autoreload 2\n",
    "import time\n",
    "import requests\n",
    "import json\n",
    "import tqdm"
   ]
  },
  {
   "cell_type": "code",
   "execution_count": 2,
   "metadata": {},
   "outputs": [],
   "source": [
    "def get_movie_characteristics(imdb_id):\n",
    "    url = 'https://www.imdb.com/title/tt' + imdb_id + '/'\n",
    "    response = get(url)\n",
    "    html_soup = BeautifulSoup(response.text, 'html.parser')\n",
    "    title = html_soup.title.text\n",
    "    description = html_soup.find('script', type=\"application/ld+json\").contents[0]\n",
    "    description = json.loads(description)\n",
    "    genre = description['genre']\n",
    "    movie_or_tv = description['@type']\n",
    "    keywords = description['keywords']\n",
    "    rating = description['aggregateRating']['ratingValue']\n",
    "    return title, genre, movie_or_tv, keywords, rating"
   ]
  },
  {
   "cell_type": "code",
   "execution_count": 3,
   "metadata": {},
   "outputs": [],
   "source": [
    "from movielingo.config import subtitle_dir\n",
    "files = os.listdir(subtitle_dir)"
   ]
  },
  {
   "cell_type": "code",
   "execution_count": 4,
   "metadata": {},
   "outputs": [],
   "source": [
    "ids = []\n",
    "for file in files:\n",
    "    filename = subtitle_dir / file\n",
    "    imdb_id = re.search(\"(\\d{7})\", file).group()\n",
    "    ids.append(imdb_id)"
   ]
  },
  {
   "cell_type": "code",
   "execution_count": null,
   "metadata": {},
   "outputs": [
    {
     "name": "stderr",
     "output_type": "stream",
     "text": [
      "  3%|▎         | 205/6581 [19:07<10:34:28,  5.97s/it]"
     ]
    }
   ],
   "source": [
    "movie_titles = []\n",
    "unique_ids = list(set(ids))\n",
    "\n",
    "for imdb_id in tqdm.tqdm(unique_ids[6000:]):\n",
    "    try:\n",
    "        title, genre, movie_or_tv, keywords, rating = get_movie_characteristics(imdb_id)\n",
    "        time.sleep(5)\n",
    "        with open('movie_characteristics.txt', 'a') as movie_characteristics_file:\n",
    "            movie_characteristics_file.write(imdb_id + '\\t' + \n",
    "                                      title + '\\t' + \n",
    "                                      genre + '\\t' +\n",
    "                                      movie_or_tv + '\\t' +\n",
    "                                      keywords + '\\t' +\n",
    "                                      rating +\n",
    "                                      '\\n')\n",
    "    except:\n",
    "        pass"
   ]
  },
  {
   "cell_type": "code",
   "execution_count": 35,
   "metadata": {},
   "outputs": [],
   "source": [
    "imdb = pd.read_csv('/Users/aglushko/Desktop/insight_fellows/insight-project/insight-data-project/notebooks/movie_characteristics.txt',\n",
    "                   sep = '\\t',\n",
    "                   names = ['id', 'title', 'genre', 'movie_or_show', 'keywords', 'rating'],\n",
    "                   dtype = {'id': str})"
   ]
  },
  {
   "cell_type": "code",
   "execution_count": 36,
   "metadata": {},
   "outputs": [],
   "source": [
    "imdb['rating'] = imdb.rating.astype(float)\n",
    "imdb['id'] = imdb.id.astype(str)"
   ]
  },
  {
   "cell_type": "code",
   "execution_count": 37,
   "metadata": {},
   "outputs": [],
   "source": [
    "imdb_good = imdb[imdb.rating > 7].reset_index(drop=True).copy()"
   ]
  },
  {
   "cell_type": "code",
   "execution_count": 38,
   "metadata": {},
   "outputs": [
    {
     "data": {
      "text/html": [
       "<div>\n",
       "<style scoped>\n",
       "    .dataframe tbody tr th:only-of-type {\n",
       "        vertical-align: middle;\n",
       "    }\n",
       "\n",
       "    .dataframe tbody tr th {\n",
       "        vertical-align: top;\n",
       "    }\n",
       "\n",
       "    .dataframe thead th {\n",
       "        text-align: right;\n",
       "    }\n",
       "</style>\n",
       "<table border=\"1\" class=\"dataframe\">\n",
       "  <thead>\n",
       "    <tr style=\"text-align: right;\">\n",
       "      <th></th>\n",
       "      <th>id</th>\n",
       "      <th>title</th>\n",
       "      <th>genre</th>\n",
       "      <th>movie_or_show</th>\n",
       "      <th>keywords</th>\n",
       "      <th>rating</th>\n",
       "    </tr>\n",
       "  </thead>\n",
       "  <tbody>\n",
       "    <tr>\n",
       "      <th>0</th>\n",
       "      <td>0067484</td>\n",
       "      <td>Nie lubie poniedzialku (1971) - IMDb</td>\n",
       "      <td>Comedy</td>\n",
       "      <td>Movie</td>\n",
       "      <td>italian,statement in title,monday,thief,robbery</td>\n",
       "      <td>7.6</td>\n",
       "    </tr>\n",
       "    <tr>\n",
       "      <th>1</th>\n",
       "      <td>0109686</td>\n",
       "      <td>Dumb and Dumber (1994) - IMDb</td>\n",
       "      <td>Comedy</td>\n",
       "      <td>Movie</td>\n",
       "      <td>road trip,briefcase of money,woman wearing a s...</td>\n",
       "      <td>7.3</td>\n",
       "    </tr>\n",
       "    <tr>\n",
       "      <th>2</th>\n",
       "      <td>0112220</td>\n",
       "      <td>The Wayans Bros. (TV Series 1995–1999) - IMDb</td>\n",
       "      <td>Comedy</td>\n",
       "      <td>TVSeries</td>\n",
       "      <td>three word title,title ends with period,period...</td>\n",
       "      <td>7.2</td>\n",
       "    </tr>\n",
       "    <tr>\n",
       "      <th>3</th>\n",
       "      <td>0047238</td>\n",
       "      <td>Miseria e nobiltà (1954) - IMDb</td>\n",
       "      <td>Comedy</td>\n",
       "      <td>Movie</td>\n",
       "      <td>false identity,italy,spaghetti,pasta,poverty</td>\n",
       "      <td>7.8</td>\n",
       "    </tr>\n",
       "    <tr>\n",
       "      <th>4</th>\n",
       "      <td>0268077</td>\n",
       "      <td>That's My Bush! (TV Series 2001) - IMDb</td>\n",
       "      <td>Comedy</td>\n",
       "      <td>TVSeries</td>\n",
       "      <td>american politics,political leader,republican,...</td>\n",
       "      <td>7.3</td>\n",
       "    </tr>\n",
       "    <tr>\n",
       "      <th>...</th>\n",
       "      <td>...</td>\n",
       "      <td>...</td>\n",
       "      <td>...</td>\n",
       "      <td>...</td>\n",
       "      <td>...</td>\n",
       "      <td>...</td>\n",
       "    </tr>\n",
       "    <tr>\n",
       "      <th>137</th>\n",
       "      <td>0414773</td>\n",
       "      <td>The Smoking Room (TV Series 2004–2005) - IMDb</td>\n",
       "      <td>Comedy</td>\n",
       "      <td>TVSeries</td>\n",
       "      <td>sitcom,british comedy,smoking room</td>\n",
       "      <td>7.9</td>\n",
       "    </tr>\n",
       "    <tr>\n",
       "      <th>138</th>\n",
       "      <td>0460091</td>\n",
       "      <td>My Name Is Earl (TV Series 2005–2009) - IMDb</td>\n",
       "      <td>Comedy</td>\n",
       "      <td>TVSeries</td>\n",
       "      <td>heavy metal,crab,karma,list,low life</td>\n",
       "      <td>7.7</td>\n",
       "    </tr>\n",
       "    <tr>\n",
       "      <th>139</th>\n",
       "      <td>0795156</td>\n",
       "      <td>Monty Python's Personal Best (TV Series 2006) ...</td>\n",
       "      <td>Comedy</td>\n",
       "      <td>TVSeries</td>\n",
       "      <td>compilation,flail,sketch comedy,comedy troupe,...</td>\n",
       "      <td>8.0</td>\n",
       "    </tr>\n",
       "    <tr>\n",
       "      <th>140</th>\n",
       "      <td>0081590</td>\n",
       "      <td>Sällskapsresan eller Finns det svenskt kaffe p...</td>\n",
       "      <td>Comedy</td>\n",
       "      <td>Movie</td>\n",
       "      <td>or as title separator,first part,part of serie...</td>\n",
       "      <td>7.2</td>\n",
       "    </tr>\n",
       "    <tr>\n",
       "      <th>141</th>\n",
       "      <td>1773441</td>\n",
       "      <td>Gaalipata (2008) - IMDb</td>\n",
       "      <td>Romance</td>\n",
       "      <td>Movie</td>\n",
       "      <td>bare chested male</td>\n",
       "      <td>7.9</td>\n",
       "    </tr>\n",
       "  </tbody>\n",
       "</table>\n",
       "<p>142 rows × 6 columns</p>\n",
       "</div>"
      ],
      "text/plain": [
       "          id                                              title    genre  \\\n",
       "0    0067484               Nie lubie poniedzialku (1971) - IMDb   Comedy   \n",
       "1    0109686                      Dumb and Dumber (1994) - IMDb   Comedy   \n",
       "2    0112220      The Wayans Bros. (TV Series 1995–1999) - IMDb   Comedy   \n",
       "3    0047238                    Miseria e nobiltà (1954) - IMDb   Comedy   \n",
       "4    0268077            That's My Bush! (TV Series 2001) - IMDb   Comedy   \n",
       "..       ...                                                ...      ...   \n",
       "137  0414773      The Smoking Room (TV Series 2004–2005) - IMDb   Comedy   \n",
       "138  0460091       My Name Is Earl (TV Series 2005–2009) - IMDb   Comedy   \n",
       "139  0795156  Monty Python's Personal Best (TV Series 2006) ...   Comedy   \n",
       "140  0081590  Sällskapsresan eller Finns det svenskt kaffe p...   Comedy   \n",
       "141  1773441                            Gaalipata (2008) - IMDb  Romance   \n",
       "\n",
       "    movie_or_show                                           keywords  rating  \n",
       "0           Movie    italian,statement in title,monday,thief,robbery     7.6  \n",
       "1           Movie  road trip,briefcase of money,woman wearing a s...     7.3  \n",
       "2        TVSeries  three word title,title ends with period,period...     7.2  \n",
       "3           Movie       false identity,italy,spaghetti,pasta,poverty     7.8  \n",
       "4        TVSeries  american politics,political leader,republican,...     7.3  \n",
       "..            ...                                                ...     ...  \n",
       "137      TVSeries                 sitcom,british comedy,smoking room     7.9  \n",
       "138      TVSeries               heavy metal,crab,karma,list,low life     7.7  \n",
       "139      TVSeries  compilation,flail,sketch comedy,comedy troupe,...     8.0  \n",
       "140         Movie  or as title separator,first part,part of serie...     7.2  \n",
       "141         Movie                                  bare chested male     7.9  \n",
       "\n",
       "[142 rows x 6 columns]"
      ]
     },
     "execution_count": 38,
     "metadata": {},
     "output_type": "execute_result"
    }
   ],
   "source": [
    "imdb_good"
   ]
  },
  {
   "cell_type": "code",
   "execution_count": 39,
   "metadata": {},
   "outputs": [],
   "source": [
    "imdb_good.loc[:,'title'] = imdb_good.title.str.split(' \\(.{4,40}\\) - IMDb', expand=True)[0].str.strip()"
   ]
  },
  {
   "cell_type": "code",
   "execution_count": 40,
   "metadata": {},
   "outputs": [],
   "source": [
    "from movielingo.config import processed_data_dir\n",
    "imdb_good.to_csv(processed_data_dir / 'imdb_title_and_id_matches.csv', index = False)"
   ]
  },
  {
   "cell_type": "code",
   "execution_count": 16,
   "metadata": {},
   "outputs": [
    {
     "data": {
      "text/html": [
       "<div>\n",
       "<style scoped>\n",
       "    .dataframe tbody tr th:only-of-type {\n",
       "        vertical-align: middle;\n",
       "    }\n",
       "\n",
       "    .dataframe tbody tr th {\n",
       "        vertical-align: top;\n",
       "    }\n",
       "\n",
       "    .dataframe thead th {\n",
       "        text-align: right;\n",
       "    }\n",
       "</style>\n",
       "<table border=\"1\" class=\"dataframe\">\n",
       "  <thead>\n",
       "    <tr style=\"text-align: right;\">\n",
       "      <th></th>\n",
       "      <th>id</th>\n",
       "      <th>title</th>\n",
       "      <th>genre</th>\n",
       "      <th>movie_or_show</th>\n",
       "      <th>keywords</th>\n",
       "      <th>rating</th>\n",
       "    </tr>\n",
       "  </thead>\n",
       "  <tbody>\n",
       "    <tr>\n",
       "      <th>0</th>\n",
       "      <td>67484</td>\n",
       "      <td>Nie lubie poniedzialku</td>\n",
       "      <td>Comedy</td>\n",
       "      <td>Movie</td>\n",
       "      <td>italian,statement in title,monday,thief,robbery</td>\n",
       "      <td>7.6</td>\n",
       "    </tr>\n",
       "    <tr>\n",
       "      <th>1</th>\n",
       "      <td>109686</td>\n",
       "      <td>Dumb and Dumber</td>\n",
       "      <td>Comedy</td>\n",
       "      <td>Movie</td>\n",
       "      <td>road trip,briefcase of money,woman wearing a s...</td>\n",
       "      <td>7.3</td>\n",
       "    </tr>\n",
       "    <tr>\n",
       "      <th>2</th>\n",
       "      <td>112220</td>\n",
       "      <td>The Wayans Bros.</td>\n",
       "      <td>Comedy</td>\n",
       "      <td>TVSeries</td>\n",
       "      <td>three word title,title ends with period,period...</td>\n",
       "      <td>7.2</td>\n",
       "    </tr>\n",
       "    <tr>\n",
       "      <th>3</th>\n",
       "      <td>47238</td>\n",
       "      <td>Miseria e nobiltà</td>\n",
       "      <td>Comedy</td>\n",
       "      <td>Movie</td>\n",
       "      <td>false identity,italy,spaghetti,pasta,poverty</td>\n",
       "      <td>7.8</td>\n",
       "    </tr>\n",
       "    <tr>\n",
       "      <th>4</th>\n",
       "      <td>268077</td>\n",
       "      <td>That's My Bush!</td>\n",
       "      <td>Comedy</td>\n",
       "      <td>TVSeries</td>\n",
       "      <td>american politics,political leader,republican,...</td>\n",
       "      <td>7.3</td>\n",
       "    </tr>\n",
       "  </tbody>\n",
       "</table>\n",
       "</div>"
      ],
      "text/plain": [
       "       id                   title   genre movie_or_show  \\\n",
       "0   67484  Nie lubie poniedzialku  Comedy         Movie   \n",
       "1  109686         Dumb and Dumber  Comedy         Movie   \n",
       "2  112220        The Wayans Bros.  Comedy      TVSeries   \n",
       "3   47238       Miseria e nobiltà  Comedy         Movie   \n",
       "4  268077         That's My Bush!  Comedy      TVSeries   \n",
       "\n",
       "                                            keywords  rating  \n",
       "0    italian,statement in title,monday,thief,robbery     7.6  \n",
       "1  road trip,briefcase of money,woman wearing a s...     7.3  \n",
       "2  three word title,title ends with period,period...     7.2  \n",
       "3       false identity,italy,spaghetti,pasta,poverty     7.8  \n",
       "4  american politics,political leader,republican,...     7.3  "
      ]
     },
     "execution_count": 16,
     "metadata": {},
     "output_type": "execute_result"
    }
   ],
   "source": [
    "IMDB = pd.read_csv(processed_data_dir / 'imdb_title_and_id_matches.csv')\n",
    "IMDB.head()"
   ]
  },
  {
   "cell_type": "code",
   "execution_count": 41,
   "metadata": {},
   "outputs": [],
   "source": [
    "from movielingo.movie_info_output import *"
   ]
  },
  {
   "cell_type": "code",
   "execution_count": null,
   "metadata": {},
   "outputs": [],
   "source": [
    "def show_difficulty(movie_title, subtitle_dir, model_dir, model = 'regression'):\n",
    "    imdb_id = get_imdb_id_from_db(movie_title)\n",
    "    html_soup = get_imdb_page_for_movie(imdb_id)\n",
    "    movie_poster_link = get_link_to_movie_poster(html_soup)\n",
    "    movie_title_correct = get_movie_title(html_soup)\n",
    "    df = create_df_from_subtitles(imdb_id, subtitle_dir)\n",
    "    loaded_model_name = model_dir / 'movielingo_model.sav'\n",
    "    loaded_model = pickle.load(open(loaded_model_name, 'rb'))\n",
    "    text_preds = []\n",
    "    for text_id in df.text_id.unique():\n",
    "        text_slice = df[df.text_id == text_id]\n",
    "        text_slice = text_slice.drop(columns = ['text_id','L2_proficiency']).reset_index(drop=True)\n",
    "        text_pred = loaded_model.predict(text_slice)\n",
    "        text_preds.append(text_pred)\n",
    "    if model == 'regression':\n",
    "        prof_labels = [toeic2cefr(float(x)) for x in text_preds[0].tolist()]\n",
    "    else:\n",
    "        prof_labels = text_preds\n",
    "    levels = Counter(prof_labels).keys()\n",
    "    classified_as = list(Counter(prof_labels).values())\n",
    "    n_windows = sum(Counter(prof_labels).values())\n",
    "    results = []\n",
    "    for level, label_count in zip(levels, classified_as):\n",
    "        results.append([level, round(100*label_count/n_windows,2)])\n",
    "    plot = plot_subtitle_difficulty(results, movie_title_correct)\n",
    "    return results, movie_poster_link, plot"
   ]
  },
  {
   "cell_type": "code",
   "execution_count": 42,
   "metadata": {},
   "outputs": [],
   "source": [
    "from movielingo.config import subtitle_dir, model_dir"
   ]
  },
  {
   "cell_type": "code",
   "execution_count": 43,
   "metadata": {},
   "outputs": [
    {
     "name": "stderr",
     "output_type": "stream",
     "text": [
      "100%|██████████| 221/221 [00:01<00:00, 159.36it/s]\n",
      "/opt/anaconda3/envs/insight/lib/python3.7/site-packages/sklearn/compose/_column_transformer.py:440: FutureWarning: Given feature/column names or counts do not match the ones for the data given during fit. This will fail from v0.24.\n",
      "  FutureWarning)\n"
     ]
    }
   ],
   "source": [
    "results, movie_poster_link, plot = show_difficulty('Dumb and Dumber', subtitle_dir, model_dir, model = 'regression')"
   ]
  },
  {
   "cell_type": "code",
   "execution_count": 49,
   "metadata": {},
   "outputs": [
    {
     "data": {
      "text/plain": [
       "[['A2', 92.31], ['B1', 7.69]]"
      ]
     },
     "execution_count": 49,
     "metadata": {},
     "output_type": "execute_result"
    }
   ],
   "source": [
    "l2_level = 'UpperInterAdv'\n",
    "results"
   ]
  },
  {
   "cell_type": "code",
   "execution_count": 52,
   "metadata": {},
   "outputs": [],
   "source": [
    "def get_result(results, l2_level):\n",
    "    labels = []\n",
    "    vals = []\n",
    "    for i in range(len(results)):\n",
    "        labels.append(results[i][0])\n",
    "        vals.append(results[i][1])\n",
    "    b1_can_understand = 0\n",
    "    if 'A2' in labels:\n",
    "        i = labels.index('A2')\n",
    "        b1_can_understand += vals[i]\n",
    "    if 'B1' in labels:\n",
    "        i = labels.index('B1')\n",
    "        b1_can_understand += vals[i]\n",
    "    if l2_level == 'BegInter':\n",
    "        if b1_can_understand >= 75:\n",
    "            result = 'is just right for you!'\n",
    "        elif b1_can_understand >= 50:\n",
    "            result = 'might be a bit too difficult for you!'\n",
    "        else:\n",
    "            'is probably too difficult for you.'\n",
    "    if l2_level == 'UpperInterAdv':\n",
    "        if b1_can_understand >= 75:\n",
    "            result = 'is almost too easy for you!'\n",
    "        else:\n",
    "            result = 'is just right for you!'\n",
    "    return result"
   ]
  },
  {
   "cell_type": "code",
   "execution_count": 53,
   "metadata": {},
   "outputs": [
    {
     "data": {
      "text/plain": [
       "'is almost too easy for you!'"
      ]
     },
     "execution_count": 53,
     "metadata": {},
     "output_type": "execute_result"
    }
   ],
   "source": [
    "get_result(results, l2_level)"
   ]
  },
  {
   "cell_type": "code",
   "execution_count": null,
   "metadata": {},
   "outputs": [],
   "source": []
  }
 ],
 "metadata": {
  "kernelspec": {
   "display_name": "Python 3",
   "language": "python",
   "name": "python3"
  },
  "language_info": {
   "codemirror_mode": {
    "name": "ipython",
    "version": 3
   },
   "file_extension": ".py",
   "mimetype": "text/x-python",
   "name": "python",
   "nbconvert_exporter": "python",
   "pygments_lexer": "ipython3",
   "version": "3.7.7"
  }
 },
 "nbformat": 4,
 "nbformat_minor": 4
}
